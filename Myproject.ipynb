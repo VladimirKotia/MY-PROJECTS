{
 "cells": [
  {
   "cell_type": "code",
   "execution_count": 1,
   "metadata": {},
   "outputs": [
    {
     "data": {
      "text/html": [
       "<div>\n",
       "<style scoped>\n",
       "    .dataframe tbody tr th:only-of-type {\n",
       "        vertical-align: middle;\n",
       "    }\n",
       "\n",
       "    .dataframe tbody tr th {\n",
       "        vertical-align: top;\n",
       "    }\n",
       "\n",
       "    .dataframe thead th {\n",
       "        text-align: right;\n",
       "    }\n",
       "</style>\n",
       "<table border=\"1\" class=\"dataframe\">\n",
       "  <thead>\n",
       "    <tr style=\"text-align: right;\">\n",
       "      <th></th>\n",
       "      <th>created_date</th>\n",
       "      <th>unique_key</th>\n",
       "      <th>complaint_type</th>\n",
       "      <th>incident_zip</th>\n",
       "      <th>incident_address</th>\n",
       "      <th>street_name</th>\n",
       "      <th>address_type</th>\n",
       "      <th>city</th>\n",
       "      <th>resolution_description</th>\n",
       "      <th>borough</th>\n",
       "      <th>latitude</th>\n",
       "      <th>longitude</th>\n",
       "      <th>closed_date</th>\n",
       "      <th>location_type</th>\n",
       "      <th>status</th>\n",
       "    </tr>\n",
       "  </thead>\n",
       "  <tbody>\n",
       "    <tr>\n",
       "      <th>0</th>\n",
       "      <td>2019-06-13T18:47:05.000</td>\n",
       "      <td>43096054</td>\n",
       "      <td>DOOR/WINDOW</td>\n",
       "      <td>11225.0</td>\n",
       "      <td>501 NEW YORK AVENUE</td>\n",
       "      <td>NEW YORK AVENUE</td>\n",
       "      <td>ADDRESS</td>\n",
       "      <td>BROOKLYN</td>\n",
       "      <td>The Department of Housing Preservation and Dev...</td>\n",
       "      <td>BROOKLYN</td>\n",
       "      <td>40.662897</td>\n",
       "      <td>-73.947941</td>\n",
       "      <td>2019-06-25T11:15:05.000</td>\n",
       "      <td>RESIDENTIAL BUILDING</td>\n",
       "      <td>Closed</td>\n",
       "    </tr>\n",
       "    <tr>\n",
       "      <th>1</th>\n",
       "      <td>2019-06-25T09:50:51.000</td>\n",
       "      <td>43095936</td>\n",
       "      <td>PAINT/PLASTER</td>\n",
       "      <td>10034.0</td>\n",
       "      <td>639 WEST  207 STREET</td>\n",
       "      <td>WEST  207 STREET</td>\n",
       "      <td>ADDRESS</td>\n",
       "      <td>NEW YORK</td>\n",
       "      <td>The following complaint conditions are still o...</td>\n",
       "      <td>MANHATTAN</td>\n",
       "      <td>40.868598</td>\n",
       "      <td>-73.921780</td>\n",
       "      <td>NaN</td>\n",
       "      <td>RESIDENTIAL BUILDING</td>\n",
       "      <td>Open</td>\n",
       "    </tr>\n",
       "    <tr>\n",
       "      <th>2</th>\n",
       "      <td>2019-05-23T16:59:36.000</td>\n",
       "      <td>43096069</td>\n",
       "      <td>PAINT/PLASTER</td>\n",
       "      <td>10009.0</td>\n",
       "      <td>542 EAST   11 STREET</td>\n",
       "      <td>EAST   11 STREET</td>\n",
       "      <td>ADDRESS</td>\n",
       "      <td>NEW YORK</td>\n",
       "      <td>The Department of Housing Preservation and Dev...</td>\n",
       "      <td>MANHATTAN</td>\n",
       "      <td>40.728000</td>\n",
       "      <td>-73.980751</td>\n",
       "      <td>2019-06-25T11:25:15.000</td>\n",
       "      <td>RESIDENTIAL BUILDING</td>\n",
       "      <td>Closed</td>\n",
       "    </tr>\n",
       "    <tr>\n",
       "      <th>3</th>\n",
       "      <td>2019-06-11T12:18:03.000</td>\n",
       "      <td>43096048</td>\n",
       "      <td>SAFETY</td>\n",
       "      <td>10040.0</td>\n",
       "      <td>40 ARDEN STREET</td>\n",
       "      <td>ARDEN STREET</td>\n",
       "      <td>ADDRESS</td>\n",
       "      <td>NEW YORK</td>\n",
       "      <td>The Department of Housing Preservation and Dev...</td>\n",
       "      <td>MANHATTAN</td>\n",
       "      <td>40.862066</td>\n",
       "      <td>-73.927229</td>\n",
       "      <td>2019-06-25T12:58:43.000</td>\n",
       "      <td>RESIDENTIAL BUILDING</td>\n",
       "      <td>Closed</td>\n",
       "    </tr>\n",
       "    <tr>\n",
       "      <th>4</th>\n",
       "      <td>2019-06-25T22:12:53.000</td>\n",
       "      <td>43096125</td>\n",
       "      <td>GENERAL</td>\n",
       "      <td>11211.0</td>\n",
       "      <td>566 LORIMER STREET</td>\n",
       "      <td>LORIMER STREET</td>\n",
       "      <td>ADDRESS</td>\n",
       "      <td>BROOKLYN</td>\n",
       "      <td>The following complaint conditions are still o...</td>\n",
       "      <td>BROOKLYN</td>\n",
       "      <td>40.713860</td>\n",
       "      <td>-73.949326</td>\n",
       "      <td>NaN</td>\n",
       "      <td>RESIDENTIAL BUILDING</td>\n",
       "      <td>Open</td>\n",
       "    </tr>\n",
       "  </tbody>\n",
       "</table>\n",
       "</div>"
      ],
      "text/plain": [
       "              created_date  unique_key complaint_type  incident_zip  \\\n",
       "0  2019-06-13T18:47:05.000    43096054    DOOR/WINDOW       11225.0   \n",
       "1  2019-06-25T09:50:51.000    43095936  PAINT/PLASTER       10034.0   \n",
       "2  2019-05-23T16:59:36.000    43096069  PAINT/PLASTER       10009.0   \n",
       "3  2019-06-11T12:18:03.000    43096048         SAFETY       10040.0   \n",
       "4  2019-06-25T22:12:53.000    43096125        GENERAL       11211.0   \n",
       "\n",
       "       incident_address       street_name address_type      city  \\\n",
       "0   501 NEW YORK AVENUE   NEW YORK AVENUE      ADDRESS  BROOKLYN   \n",
       "1  639 WEST  207 STREET  WEST  207 STREET      ADDRESS  NEW YORK   \n",
       "2  542 EAST   11 STREET  EAST   11 STREET      ADDRESS  NEW YORK   \n",
       "3       40 ARDEN STREET      ARDEN STREET      ADDRESS  NEW YORK   \n",
       "4    566 LORIMER STREET    LORIMER STREET      ADDRESS  BROOKLYN   \n",
       "\n",
       "                              resolution_description    borough   latitude  \\\n",
       "0  The Department of Housing Preservation and Dev...   BROOKLYN  40.662897   \n",
       "1  The following complaint conditions are still o...  MANHATTAN  40.868598   \n",
       "2  The Department of Housing Preservation and Dev...  MANHATTAN  40.728000   \n",
       "3  The Department of Housing Preservation and Dev...  MANHATTAN  40.862066   \n",
       "4  The following complaint conditions are still o...   BROOKLYN  40.713860   \n",
       "\n",
       "   longitude              closed_date         location_type  status  \n",
       "0 -73.947941  2019-06-25T11:15:05.000  RESIDENTIAL BUILDING  Closed  \n",
       "1 -73.921780                      NaN  RESIDENTIAL BUILDING    Open  \n",
       "2 -73.980751  2019-06-25T11:25:15.000  RESIDENTIAL BUILDING  Closed  \n",
       "3 -73.927229  2019-06-25T12:58:43.000  RESIDENTIAL BUILDING  Closed  \n",
       "4 -73.949326                      NaN  RESIDENTIAL BUILDING    Open  "
      ]
     },
     "execution_count": 1,
     "metadata": {},
     "output_type": "execute_result"
    }
   ],
   "source": [
    "# We will analize here What Areas Should the Department of Housing Preservation and Development of New York City Focus On?\n",
    "\n",
    "# The goal of this project is to do explore the data to find the answer to the Question  - \n",
    "# Should the Department of Housing Preservation and Development of New York City focus on any particular set of boroughs, \n",
    "# ZIP codes or street (where the complaints are severe) for the specific type of complaints that we identified?\n",
    "\n",
    "\n",
    "import types\n",
    "import pandas as pd\n",
    "from botocore.client import Config\n",
    "import ibm_boto3\n",
    "\n",
    "def __iter__(self): return 0\n",
    "\n",
    "\n",
    "# @hidden_cell\n",
    "# The following code accesses a file in your IBM Cloud Object Storage. It includes your credentials.\n",
    "# You might want to remove those credentials before you share your notebook.\n",
    "client_b1090d99cfbd4b519f3f3860b6221f72 = ibm_boto3.client(service_name='s3',\n",
    "    ibm_api_key_id='<**REPLACE_WITH_YOUR_IBM_API_KEY_ID**>',\n",
    "    ibm_auth_endpoint=\"https://iam.bluemix.net/oidc/token\",\n",
    "    config=Config(signature_version='oauth'),\n",
    "    endpoint_url='https://s3-api.us-geo.objectstorage.service.networklayer.com')\n",
    "\n",
    "body = client_b1090d99cfbd4b519f3f3860b6221f72.get_object(Bucket='<**REPLACE_WITH_YOUR_BUCKET_ID**>',Key='fhrw-4uyv.csv')['Body']\n",
    "# add missing __iter__ method, so pandas accepts body as file-like object\n",
    "if not hasattr(body, \"__iter__\"): body.__iter__ = types.MethodType( __iter__, body )\n",
    "\n",
    "# upload dataset\n",
    "\n",
    "df_data_2 = pd.read_csv(body)\n",
    "df_data_2.head()"
   ]
  },
  {
   "cell_type": "code",
   "execution_count": 3,
   "metadata": {},
   "outputs": [],
   "source": [
    "#Save dataset to pkl file\n",
    "\n",
    "df_data_2.to_pickle('./df_raw2.pkl')"
   ]
  },
  {
   "cell_type": "code",
   "execution_count": 4,
   "metadata": {},
   "outputs": [],
   "source": [
    "client_cred.upload_file('./df_raw2.pkl',bucket,'df_raw_cos.pkl')"
   ]
  },
  {
   "cell_type": "code",
   "execution_count": 5,
   "metadata": {},
   "outputs": [],
   "source": [
    "client_cred.download_file(Bucket=bucket,Key='df_raw_cos.pkl',Filename='./df_raw_local.pkl')"
   ]
  },
  {
   "cell_type": "code",
   "execution_count": 6,
   "metadata": {},
   "outputs": [],
   "source": [
    "df1 = pd.read_pickle('./df_raw_local.pkl')"
   ]
  },
  {
   "cell_type": "code",
   "execution_count": 7,
   "metadata": {},
   "outputs": [
    {
     "data": {
      "text/plain": [
       "(5812405, 15)"
      ]
     },
     "execution_count": 7,
     "metadata": {},
     "output_type": "execute_result"
    }
   ],
   "source": [
    "# shape of DF with total number of complaints -5 812 405 and 15 Columns.\n",
    "\n",
    "df1.shape"
   ]
  },
  {
   "cell_type": "code",
   "execution_count": 8,
   "metadata": {},
   "outputs": [
    {
     "data": {
      "text/html": [
       "<div>\n",
       "<style scoped>\n",
       "    .dataframe tbody tr th:only-of-type {\n",
       "        vertical-align: middle;\n",
       "    }\n",
       "\n",
       "    .dataframe tbody tr th {\n",
       "        vertical-align: top;\n",
       "    }\n",
       "\n",
       "    .dataframe thead th {\n",
       "        text-align: right;\n",
       "    }\n",
       "</style>\n",
       "<table border=\"1\" class=\"dataframe\">\n",
       "  <thead>\n",
       "    <tr style=\"text-align: right;\">\n",
       "      <th></th>\n",
       "      <th>created_date</th>\n",
       "      <th>unique_key</th>\n",
       "      <th>complaint_type</th>\n",
       "      <th>incident_zip</th>\n",
       "      <th>incident_address</th>\n",
       "      <th>street_name</th>\n",
       "      <th>address_type</th>\n",
       "      <th>city</th>\n",
       "      <th>resolution_description</th>\n",
       "      <th>borough</th>\n",
       "      <th>latitude</th>\n",
       "      <th>longitude</th>\n",
       "      <th>closed_date</th>\n",
       "      <th>location_type</th>\n",
       "      <th>status</th>\n",
       "    </tr>\n",
       "  </thead>\n",
       "  <tbody>\n",
       "    <tr>\n",
       "      <th>0</th>\n",
       "      <td>2019-06-13T18:47:05.000</td>\n",
       "      <td>43096054</td>\n",
       "      <td>DOOR/WINDOW</td>\n",
       "      <td>11225.0</td>\n",
       "      <td>501 NEW YORK AVENUE</td>\n",
       "      <td>NEW YORK AVENUE</td>\n",
       "      <td>ADDRESS</td>\n",
       "      <td>BROOKLYN</td>\n",
       "      <td>The Department of Housing Preservation and Dev...</td>\n",
       "      <td>BROOKLYN</td>\n",
       "      <td>40.662897</td>\n",
       "      <td>-73.947941</td>\n",
       "      <td>2019-06-25T11:15:05.000</td>\n",
       "      <td>RESIDENTIAL BUILDING</td>\n",
       "      <td>Closed</td>\n",
       "    </tr>\n",
       "    <tr>\n",
       "      <th>1</th>\n",
       "      <td>2019-06-25T09:50:51.000</td>\n",
       "      <td>43095936</td>\n",
       "      <td>PAINT/PLASTER</td>\n",
       "      <td>10034.0</td>\n",
       "      <td>639 WEST  207 STREET</td>\n",
       "      <td>WEST  207 STREET</td>\n",
       "      <td>ADDRESS</td>\n",
       "      <td>NEW YORK</td>\n",
       "      <td>The following complaint conditions are still o...</td>\n",
       "      <td>MANHATTAN</td>\n",
       "      <td>40.868598</td>\n",
       "      <td>-73.921780</td>\n",
       "      <td>NaN</td>\n",
       "      <td>RESIDENTIAL BUILDING</td>\n",
       "      <td>Open</td>\n",
       "    </tr>\n",
       "    <tr>\n",
       "      <th>2</th>\n",
       "      <td>2019-05-23T16:59:36.000</td>\n",
       "      <td>43096069</td>\n",
       "      <td>PAINT/PLASTER</td>\n",
       "      <td>10009.0</td>\n",
       "      <td>542 EAST   11 STREET</td>\n",
       "      <td>EAST   11 STREET</td>\n",
       "      <td>ADDRESS</td>\n",
       "      <td>NEW YORK</td>\n",
       "      <td>The Department of Housing Preservation and Dev...</td>\n",
       "      <td>MANHATTAN</td>\n",
       "      <td>40.728000</td>\n",
       "      <td>-73.980751</td>\n",
       "      <td>2019-06-25T11:25:15.000</td>\n",
       "      <td>RESIDENTIAL BUILDING</td>\n",
       "      <td>Closed</td>\n",
       "    </tr>\n",
       "    <tr>\n",
       "      <th>3</th>\n",
       "      <td>2019-06-11T12:18:03.000</td>\n",
       "      <td>43096048</td>\n",
       "      <td>SAFETY</td>\n",
       "      <td>10040.0</td>\n",
       "      <td>40 ARDEN STREET</td>\n",
       "      <td>ARDEN STREET</td>\n",
       "      <td>ADDRESS</td>\n",
       "      <td>NEW YORK</td>\n",
       "      <td>The Department of Housing Preservation and Dev...</td>\n",
       "      <td>MANHATTAN</td>\n",
       "      <td>40.862066</td>\n",
       "      <td>-73.927229</td>\n",
       "      <td>2019-06-25T12:58:43.000</td>\n",
       "      <td>RESIDENTIAL BUILDING</td>\n",
       "      <td>Closed</td>\n",
       "    </tr>\n",
       "    <tr>\n",
       "      <th>4</th>\n",
       "      <td>2019-06-25T22:12:53.000</td>\n",
       "      <td>43096125</td>\n",
       "      <td>GENERAL</td>\n",
       "      <td>11211.0</td>\n",
       "      <td>566 LORIMER STREET</td>\n",
       "      <td>LORIMER STREET</td>\n",
       "      <td>ADDRESS</td>\n",
       "      <td>BROOKLYN</td>\n",
       "      <td>The following complaint conditions are still o...</td>\n",
       "      <td>BROOKLYN</td>\n",
       "      <td>40.713860</td>\n",
       "      <td>-73.949326</td>\n",
       "      <td>NaN</td>\n",
       "      <td>RESIDENTIAL BUILDING</td>\n",
       "      <td>Open</td>\n",
       "    </tr>\n",
       "  </tbody>\n",
       "</table>\n",
       "</div>"
      ],
      "text/plain": [
       "              created_date  unique_key complaint_type  incident_zip  \\\n",
       "0  2019-06-13T18:47:05.000    43096054    DOOR/WINDOW       11225.0   \n",
       "1  2019-06-25T09:50:51.000    43095936  PAINT/PLASTER       10034.0   \n",
       "2  2019-05-23T16:59:36.000    43096069  PAINT/PLASTER       10009.0   \n",
       "3  2019-06-11T12:18:03.000    43096048         SAFETY       10040.0   \n",
       "4  2019-06-25T22:12:53.000    43096125        GENERAL       11211.0   \n",
       "\n",
       "       incident_address       street_name address_type      city  \\\n",
       "0   501 NEW YORK AVENUE   NEW YORK AVENUE      ADDRESS  BROOKLYN   \n",
       "1  639 WEST  207 STREET  WEST  207 STREET      ADDRESS  NEW YORK   \n",
       "2  542 EAST   11 STREET  EAST   11 STREET      ADDRESS  NEW YORK   \n",
       "3       40 ARDEN STREET      ARDEN STREET      ADDRESS  NEW YORK   \n",
       "4    566 LORIMER STREET    LORIMER STREET      ADDRESS  BROOKLYN   \n",
       "\n",
       "                              resolution_description    borough   latitude  \\\n",
       "0  The Department of Housing Preservation and Dev...   BROOKLYN  40.662897   \n",
       "1  The following complaint conditions are still o...  MANHATTAN  40.868598   \n",
       "2  The Department of Housing Preservation and Dev...  MANHATTAN  40.728000   \n",
       "3  The Department of Housing Preservation and Dev...  MANHATTAN  40.862066   \n",
       "4  The following complaint conditions are still o...   BROOKLYN  40.713860   \n",
       "\n",
       "   longitude              closed_date         location_type  status  \n",
       "0 -73.947941  2019-06-25T11:15:05.000  RESIDENTIAL BUILDING  Closed  \n",
       "1 -73.921780                      NaN  RESIDENTIAL BUILDING    Open  \n",
       "2 -73.980751  2019-06-25T11:25:15.000  RESIDENTIAL BUILDING  Closed  \n",
       "3 -73.927229  2019-06-25T12:58:43.000  RESIDENTIAL BUILDING  Closed  \n",
       "4 -73.949326                      NaN  RESIDENTIAL BUILDING    Open  "
      ]
     },
     "execution_count": 8,
     "metadata": {},
     "output_type": "execute_result"
    }
   ],
   "source": [
    "# let's examine our dataset with first 5 complaints\n",
    "df1.head()"
   ]
  },
  {
   "cell_type": "code",
   "execution_count": 9,
   "metadata": {},
   "outputs": [
    {
     "data": {
      "text/plain": [
       "HEAT/HOT WATER    1146190\n",
       "Name: complaint_type, dtype: int64"
      ]
     },
     "execution_count": 9,
     "metadata": {},
     "output_type": "execute_result"
    }
   ],
   "source": [
    "# our top complaints type is HEAT/HOT WATER  \n",
    "\n",
    "df1['complaint_type'].value_counts().head(1)"
   ]
  },
  {
   "cell_type": "code",
   "execution_count": 10,
   "metadata": {},
   "outputs": [
    {
     "data": {
      "text/plain": [
       "22"
      ]
     },
     "execution_count": 10,
     "metadata": {},
     "output_type": "execute_result"
    }
   ],
   "source": [
    "# we can define total quantity of complaint types. Here  22 complaint types\n",
    "\n",
    "df1['complaint_type'].nunique()"
   ]
  },
  {
   "cell_type": "code",
   "execution_count": 11,
   "metadata": {},
   "outputs": [
    {
     "data": {
      "text/plain": [
       "array(['DOOR/WINDOW', 'PAINT/PLASTER', 'SAFETY', 'GENERAL',\n",
       "       'UNSANITARY CONDITION', 'WATER LEAK', 'HEAT/HOT WATER', 'ELECTRIC',\n",
       "       'PLUMBING', 'FLOORING/STAIRS', 'ELEVATOR', 'APPLIANCE',\n",
       "       'HPD Literature Request', 'OUTSIDE BUILDING', 'AGENCY', 'HEATING',\n",
       "       'NONCONST', 'PAINT - PLASTER', 'GENERAL CONSTRUCTION',\n",
       "       'CONSTRUCTION', 'STRUCTURAL', 'VACANT APARTMENT'], dtype=object)"
      ]
     },
     "execution_count": 11,
     "metadata": {},
     "output_type": "execute_result"
    }
   ],
   "source": [
    "# we can see description of complaint types\n",
    "\n",
    "df1['complaint_type'].unique()"
   ]
  },
  {
   "cell_type": "code",
   "execution_count": 12,
   "metadata": {},
   "outputs": [],
   "source": [
    "# let's choose only 'HEAT/HOT WATER' complaints\n",
    "\n",
    "df_water=df1[df1['complaint_type']=='HEAT/HOT WATER']"
   ]
  },
  {
   "cell_type": "code",
   "execution_count": 13,
   "metadata": {
    "scrolled": false
   },
   "outputs": [
    {
     "data": {
      "text/plain": [
       "(1146190, 15)"
      ]
     },
     "execution_count": 13,
     "metadata": {},
     "output_type": "execute_result"
    }
   ],
   "source": [
    "# as we saw before total quantity of this complaints type is  1 146 190 complaints:\n",
    "\n",
    "df_water.shape"
   ]
  },
  {
   "cell_type": "code",
   "execution_count": 14,
   "metadata": {},
   "outputs": [
    {
     "data": {
      "text/html": [
       "<div>\n",
       "<style scoped>\n",
       "    .dataframe tbody tr th:only-of-type {\n",
       "        vertical-align: middle;\n",
       "    }\n",
       "\n",
       "    .dataframe tbody tr th {\n",
       "        vertical-align: top;\n",
       "    }\n",
       "\n",
       "    .dataframe thead th {\n",
       "        text-align: right;\n",
       "    }\n",
       "</style>\n",
       "<table border=\"1\" class=\"dataframe\">\n",
       "  <thead>\n",
       "    <tr style=\"text-align: right;\">\n",
       "      <th></th>\n",
       "      <th>created_date</th>\n",
       "      <th>unique_key</th>\n",
       "      <th>complaint_type</th>\n",
       "      <th>incident_zip</th>\n",
       "      <th>incident_address</th>\n",
       "      <th>street_name</th>\n",
       "      <th>address_type</th>\n",
       "      <th>city</th>\n",
       "      <th>resolution_description</th>\n",
       "      <th>borough</th>\n",
       "      <th>latitude</th>\n",
       "      <th>longitude</th>\n",
       "      <th>closed_date</th>\n",
       "      <th>location_type</th>\n",
       "      <th>status</th>\n",
       "    </tr>\n",
       "  </thead>\n",
       "  <tbody>\n",
       "    <tr>\n",
       "      <th>9</th>\n",
       "      <td>2019-06-25T16:46:33.000</td>\n",
       "      <td>43095907</td>\n",
       "      <td>HEAT/HOT WATER</td>\n",
       "      <td>11436.0</td>\n",
       "      <td>142-41 122 AVENUE</td>\n",
       "      <td>122 AVENUE</td>\n",
       "      <td>ADDRESS</td>\n",
       "      <td>Jamaica</td>\n",
       "      <td>The following complaint conditions are still o...</td>\n",
       "      <td>QUEENS</td>\n",
       "      <td>40.675196</td>\n",
       "      <td>-73.796513</td>\n",
       "      <td>NaN</td>\n",
       "      <td>RESIDENTIAL BUILDING</td>\n",
       "      <td>Open</td>\n",
       "    </tr>\n",
       "    <tr>\n",
       "      <th>36</th>\n",
       "      <td>2019-06-25T22:16:05.000</td>\n",
       "      <td>43097991</td>\n",
       "      <td>HEAT/HOT WATER</td>\n",
       "      <td>11355.0</td>\n",
       "      <td>143-30 SANFORD AVENUE</td>\n",
       "      <td>SANFORD AVENUE</td>\n",
       "      <td>ADDRESS</td>\n",
       "      <td>Flushing</td>\n",
       "      <td>The following complaint conditions are still o...</td>\n",
       "      <td>QUEENS</td>\n",
       "      <td>40.758432</td>\n",
       "      <td>-73.822248</td>\n",
       "      <td>NaN</td>\n",
       "      <td>RESIDENTIAL BUILDING</td>\n",
       "      <td>Open</td>\n",
       "    </tr>\n",
       "    <tr>\n",
       "      <th>42</th>\n",
       "      <td>2019-06-25T15:47:52.000</td>\n",
       "      <td>43098132</td>\n",
       "      <td>HEAT/HOT WATER</td>\n",
       "      <td>11237.0</td>\n",
       "      <td>289 HARMAN STREET</td>\n",
       "      <td>HARMAN STREET</td>\n",
       "      <td>ADDRESS</td>\n",
       "      <td>BROOKLYN</td>\n",
       "      <td>The following complaint conditions are still o...</td>\n",
       "      <td>BROOKLYN</td>\n",
       "      <td>40.699896</td>\n",
       "      <td>-73.918891</td>\n",
       "      <td>NaN</td>\n",
       "      <td>RESIDENTIAL BUILDING</td>\n",
       "      <td>Open</td>\n",
       "    </tr>\n",
       "    <tr>\n",
       "      <th>45</th>\n",
       "      <td>2019-06-25T07:55:56.000</td>\n",
       "      <td>43097996</td>\n",
       "      <td>HEAT/HOT WATER</td>\n",
       "      <td>11230.0</td>\n",
       "      <td>2010 OCEAN AVENUE</td>\n",
       "      <td>OCEAN AVENUE</td>\n",
       "      <td>ADDRESS</td>\n",
       "      <td>BROOKLYN</td>\n",
       "      <td>The complaint you filed is a duplicate of a co...</td>\n",
       "      <td>BROOKLYN</td>\n",
       "      <td>40.612692</td>\n",
       "      <td>-73.953941</td>\n",
       "      <td>NaN</td>\n",
       "      <td>RESIDENTIAL BUILDING</td>\n",
       "      <td>Open</td>\n",
       "    </tr>\n",
       "    <tr>\n",
       "      <th>48</th>\n",
       "      <td>2019-06-25T13:04:53.000</td>\n",
       "      <td>43097987</td>\n",
       "      <td>HEAT/HOT WATER</td>\n",
       "      <td>10460.0</td>\n",
       "      <td>883 EAST  180 STREET</td>\n",
       "      <td>EAST  180 STREET</td>\n",
       "      <td>ADDRESS</td>\n",
       "      <td>BRONX</td>\n",
       "      <td>The Department of Housing Preservation and Dev...</td>\n",
       "      <td>BRONX</td>\n",
       "      <td>40.845205</td>\n",
       "      <td>-73.882863</td>\n",
       "      <td>2019-06-25T16:41:30.000</td>\n",
       "      <td>RESIDENTIAL BUILDING</td>\n",
       "      <td>Closed</td>\n",
       "    </tr>\n",
       "  </tbody>\n",
       "</table>\n",
       "</div>"
      ],
      "text/plain": [
       "               created_date  unique_key  complaint_type  incident_zip  \\\n",
       "9   2019-06-25T16:46:33.000    43095907  HEAT/HOT WATER       11436.0   \n",
       "36  2019-06-25T22:16:05.000    43097991  HEAT/HOT WATER       11355.0   \n",
       "42  2019-06-25T15:47:52.000    43098132  HEAT/HOT WATER       11237.0   \n",
       "45  2019-06-25T07:55:56.000    43097996  HEAT/HOT WATER       11230.0   \n",
       "48  2019-06-25T13:04:53.000    43097987  HEAT/HOT WATER       10460.0   \n",
       "\n",
       "         incident_address       street_name address_type      city  \\\n",
       "9       142-41 122 AVENUE        122 AVENUE      ADDRESS   Jamaica   \n",
       "36  143-30 SANFORD AVENUE    SANFORD AVENUE      ADDRESS  Flushing   \n",
       "42      289 HARMAN STREET     HARMAN STREET      ADDRESS  BROOKLYN   \n",
       "45      2010 OCEAN AVENUE      OCEAN AVENUE      ADDRESS  BROOKLYN   \n",
       "48   883 EAST  180 STREET  EAST  180 STREET      ADDRESS     BRONX   \n",
       "\n",
       "                               resolution_description   borough   latitude  \\\n",
       "9   The following complaint conditions are still o...    QUEENS  40.675196   \n",
       "36  The following complaint conditions are still o...    QUEENS  40.758432   \n",
       "42  The following complaint conditions are still o...  BROOKLYN  40.699896   \n",
       "45  The complaint you filed is a duplicate of a co...  BROOKLYN  40.612692   \n",
       "48  The Department of Housing Preservation and Dev...     BRONX  40.845205   \n",
       "\n",
       "    longitude              closed_date         location_type  status  \n",
       "9  -73.796513                      NaN  RESIDENTIAL BUILDING    Open  \n",
       "36 -73.822248                      NaN  RESIDENTIAL BUILDING    Open  \n",
       "42 -73.918891                      NaN  RESIDENTIAL BUILDING    Open  \n",
       "45 -73.953941                      NaN  RESIDENTIAL BUILDING    Open  \n",
       "48 -73.882863  2019-06-25T16:41:30.000  RESIDENTIAL BUILDING  Closed  "
      ]
     },
     "execution_count": 14,
     "metadata": {},
     "output_type": "execute_result"
    }
   ],
   "source": [
    "# Our new data frame only with complaint type - HEAT/HOT WATER. Examine it.\n",
    "\n",
    "df_water.head(5)"
   ]
  },
  {
   "cell_type": "code",
   "execution_count": 15,
   "metadata": {},
   "outputs": [
    {
     "data": {
      "text/plain": [
       "190"
      ]
     },
     "execution_count": 15,
     "metadata": {},
     "output_type": "execute_result"
    }
   ],
   "source": [
    "# Total number of Zip codes with complaints - 190\n",
    "\n",
    "df_water['incident_zip'].nunique()"
   ]
  },
  {
   "cell_type": "code",
   "execution_count": 16,
   "metadata": {},
   "outputs": [
    {
     "data": {
      "text/plain": [
       "92838"
      ]
     },
     "execution_count": 16,
     "metadata": {},
     "output_type": "execute_result"
    }
   ],
   "source": [
    "# Total number of Addresses with complaints - 92 838 \n",
    "\n",
    "df_water['incident_address'].nunique()"
   ]
  },
  {
   "cell_type": "code",
   "execution_count": 17,
   "metadata": {},
   "outputs": [
    {
     "data": {
      "text/plain": [
       "5216"
      ]
     },
     "execution_count": 17,
     "metadata": {},
     "output_type": "execute_result"
    }
   ],
   "source": [
    "# Total number of Streets with complaints- 5 216\n",
    "df_water['street_name'].nunique()"
   ]
  },
  {
   "cell_type": "code",
   "execution_count": 18,
   "metadata": {},
   "outputs": [
    {
     "data": {
      "text/plain": [
       "GRAND CONCOURSE             20310\n",
       "BROADWAY                    14293\n",
       "ELMHURST AVENUE              9913\n",
       "OCEAN AVENUE                 9215\n",
       "MORRIS AVENUE                9044\n",
       "BOYNTON AVENUE               8394\n",
       "ST NICHOLAS AVENUE           7865\n",
       "AMSTERDAM AVENUE             6817\n",
       "DR M L KING JR BOULEVARD     6317\n",
       "OCEAN PARKWAY                5868\n",
       "LINDEN BOULEVARD             5636\n",
       "ARDEN STREET                 5624\n",
       "DECATUR AVENUE               5243\n",
       "SEDGWICK AVENUE              5166\n",
       "WALTON AVENUE                5132\n",
       "EAST TREMONT AVENUE          4906\n",
       "CRESTON AVENUE               4827\n",
       "NOSTRAND AVENUE              4694\n",
       "BEDFORD AVENUE               4689\n",
       "RIVERSIDE DRIVE              4531\n",
       "SHORE ROAD                   4512\n",
       "EASTERN PARKWAY              4423\n",
       "2 AVENUE                     4356\n",
       "FULTON STREET                4319\n",
       "WASHINGTON AVENUE            4194\n",
       "SHERIDAN AVENUE              4126\n",
       "DAVIDSON AVENUE              4123\n",
       "WALLACE AVENUE               3910\n",
       "3 AVENUE                     3859\n",
       "ADAM C POWELL BOULEVARD      3849\n",
       "                            ...  \n",
       "CELEBRATION LANE                1\n",
       "SHERMAN STREET                  1\n",
       "HAWKINS STREET                  1\n",
       "CARLTON COURT                   1\n",
       "MARISA CIRCLE                   1\n",
       "BEACH  101 STREET               1\n",
       "RUGBY AVENUE                    1\n",
       "BRITTON LANE                    1\n",
       "CROSS STREET                    1\n",
       "BEACH   12 STREET               1\n",
       "CHERRYWOOD COURT                1\n",
       "BEACH 99 STREET                 1\n",
       "WEST 67 STREET                  1\n",
       "QUEEN STREET                    1\n",
       "CROWELL AVENUE                  1\n",
       "WEST 259 STREET                 1\n",
       "FRASER STREET                   1\n",
       "BAY 24 STREET                   1\n",
       "SMITH PLACE                     1\n",
       "NICHOLAS STREET                 1\n",
       "BAY STREET LANDING              1\n",
       "OSBOURNE PLACE                  1\n",
       "RIVERSIDE BOULEVARD             1\n",
       "SANDFORD STREET                 1\n",
       "PITNEY AVENUE                   1\n",
       "REINHART ROAD                   1\n",
       "BELLA VISTA COURT               1\n",
       "NORTH   10 STREET               1\n",
       "NATICK STREET                   1\n",
       "KNICKERBOCK AVENUE              1\n",
       "Name: street_name, Length: 5216, dtype: int64"
      ]
     },
     "execution_count": 18,
     "metadata": {},
     "output_type": "execute_result"
    }
   ],
   "source": [
    "# we can define streets with maximum numbers of complaints - this is GRAND CONCOURSE street with 20 310 complaints and BROADWAY with 14 293 complaints\n",
    "\n",
    "df_water['street_name'].value_counts()"
   ]
  },
  {
   "cell_type": "code",
   "execution_count": 19,
   "metadata": {},
   "outputs": [
    {
     "data": {
      "text/plain": [
       "11226.0    37959\n",
       "10458.0    35566\n",
       "10467.0    34643\n",
       "10468.0    31194\n",
       "10453.0    31157\n",
       "Name: incident_zip, dtype: int64"
      ]
     },
     "execution_count": 19,
     "metadata": {},
     "output_type": "execute_result"
    }
   ],
   "source": [
    "#  TOP 5 zip codes with maximum number of complaints\n",
    "\n",
    "df_water['incident_zip'].value_counts().head()"
   ]
  },
  {
   "cell_type": "code",
   "execution_count": 20,
   "metadata": {},
   "outputs": [
    {
     "data": {
      "text/plain": [
       "BRONX            372670\n",
       "BROOKLYN         350661\n",
       "MANHATTAN        259567\n",
       "QUEENS           151964\n",
       "STATEN ISLAND     11327\n",
       "Unspecified           1\n",
       "Name: borough, dtype: int64"
      ]
     },
     "execution_count": 20,
     "metadata": {},
     "output_type": "execute_result"
    }
   ],
   "source": [
    "# Borough with maximum number of complaints - BRONX\n",
    "\n",
    "df_water['borough'].value_counts()"
   ]
  },
  {
   "cell_type": "code",
   "execution_count": 21,
   "metadata": {},
   "outputs": [],
   "source": [
    "# Save Boroughs to new Data frame\n",
    "\n",
    "df_w=df_water['borough'].value_counts()\n"
   ]
  },
  {
   "cell_type": "code",
   "execution_count": 22,
   "metadata": {},
   "outputs": [
    {
     "data": {
      "text/plain": [
       "BRONX            372670\n",
       "BROOKLYN         350661\n",
       "MANHATTAN        259567\n",
       "QUEENS           151964\n",
       "STATEN ISLAND     11327\n",
       "Unspecified           1\n",
       "Name: borough, dtype: int64"
      ]
     },
     "execution_count": 22,
     "metadata": {},
     "output_type": "execute_result"
    }
   ],
   "source": [
    "# Chek new Data Frame\n",
    "df_w"
   ]
  },
  {
   "cell_type": "code",
   "execution_count": 23,
   "metadata": {},
   "outputs": [
    {
     "name": "stdout",
     "output_type": "stream",
     "text": [
      "Matplotlib version:  3.0.2\n"
     ]
    }
   ],
   "source": [
    "# use the inline backend to generate the plots \n",
    "%matplotlib inline \n",
    "\n",
    "import matplotlib as mpl\n",
    "import matplotlib.pyplot as plt\n",
    "\n",
    "mpl.style.use('ggplot') \n",
    "\n",
    "# check for latest version of Matplotlib\n",
    "print ('Matplotlib version: ', mpl.__version__) # >= 2.0.0"
   ]
  },
  {
   "cell_type": "code",
   "execution_count": 24,
   "metadata": {},
   "outputs": [
    {
     "data": {
      "image/png": "[encoded data removed]",
      "text/plain": [
       "<Figure size 1440x720 with 1 Axes>"
      ]
     },
     "metadata": {
      "needs_background": "light"
     },
     "output_type": "display_data"
    }
   ],
   "source": [
    "# Area plot with Boroughs of New York\n",
    "\n",
    "df_w.plot(kind='area', \n",
    "stacked=False,\n",
    "figsize=(20, 10),  )\n",
    "\n",
    "plt.title('Boroughs of New York and number of complaints')\n",
    "plt.ylabel('Number of complaints')\n",
    "plt.xlabel('Boroughs of New York')\n",
    "\n",
    "plt.show()\n"
   ]
  },
  {
   "cell_type": "code",
   "execution_count": 25,
   "metadata": {},
   "outputs": [
    {
     "data": {
      "image/png": "[encoded data removed]",
      "text/plain": [
       "<Figure size 1440x720 with 1 Axes>"
      ]
     },
     "metadata": {
      "needs_background": "light"
     },
     "output_type": "display_data"
    }
   ],
   "source": [
    "# Bar chart with Boroughs of New York\n",
    "\n",
    "df_w.plot(kind='bar', \n",
    "stacked=False,\n",
    "figsize=(20, 10),  )\n",
    "\n",
    "plt.title('Boroughs of New York and number of complaints')\n",
    "plt.ylabel('Number of complaints')\n",
    "plt.xlabel('Boroughs of New York')\n",
    "\n",
    "plt.show()"
   ]
  },
  {
   "cell_type": "code",
   "execution_count": 26,
   "metadata": {},
   "outputs": [
    {
     "data": {
      "image/png": "[encoded data removed]",
      "text/plain": [
       "<Figure size 1440x720 with 1 Axes>"
      ]
     },
     "metadata": {
      "needs_background": "light"
     },
     "output_type": "display_data"
    }
   ],
   "source": [
    "# Horizontal Bar plot with Boroughs of New York\n",
    "\n",
    "df_w.plot(kind='barh', \n",
    "stacked=False,\n",
    "figsize=(20, 10),  )\n",
    "\n",
    "plt.title('Boroughs of New York and number of complaints')\n",
    "plt.ylabel('Number of complaints')\n",
    "plt.xlabel('Boroughs of New York')\n",
    "\n",
    "plt.show()"
   ]
  },
  {
   "cell_type": "code",
   "execution_count": 27,
   "metadata": {},
   "outputs": [],
   "source": [
    "# CONCLUSION:\n",
    "\n",
    "# We defined Borough with maximum number of complaints- BRONX\n",
    "# We defined streets with maximum number of complaints - GRAND CONCOURSE street with 20 310 complaints and BROADWAY with 14 293 complaints\n",
    "# We defined top 5 zip codes with maximum number of complaints - 11226, 10458, 10467, 10468, 10453.\n",
    "\n",
    "\n",
    "# Using this information Department of Housing Preservation and Development of New York City should focus at first on problem Borough - BRONX, \n",
    "# streets - GRAND CONCOURSE and BROADWAY and zip codes - 11226, 10458, 10467, 10468, 10453.\n",
    "\n",
    "\n"
   ]
  },
  {
   "cell_type": "code",
   "execution_count": null,
   "metadata": {},
   "outputs": [],
   "source": []
  },
  {
   "cell_type": "code",
   "execution_count": null,
   "metadata": {},
   "outputs": [],
   "source": []
  }
 ],
 "metadata": {
  "kernelspec": {
   "display_name": "Python 3",
   "language": "python",
   "name": "python3"
  },
  "language_info": {
   "codemirror_mode": {
    "name": "ipython",
    "version": 3
   },
   "file_extension": ".py",
   "mimetype": "text/x-python",
   "name": "python",
   "nbconvert_exporter": "python",
   "pygments_lexer": "ipython3",
   "version": "3.7.3"
  }
 },
 "nbformat": 4,
 "nbformat_minor": 1
}
